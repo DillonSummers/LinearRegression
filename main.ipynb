{
 "cells": [
  {
   "cell_type": "code",
   "execution_count": 65,
   "id": "2fd88d0f",
   "metadata": {},
   "outputs": [],
   "source": [
    "import pandas as pd\n",
    "import numpy as np\n",
    "import matplotlib.pyplot as plt\n",
    "import ast"
   ]
  },
  {
   "cell_type": "code",
   "execution_count": null,
   "id": "dc899d52",
   "metadata": {},
   "outputs": [],
   "source": [
    "new_polymers = pd.read_csv(\"data/new_polymers_feature.csv\")\n",
    "old_polymers = pd.read_csv(\"data/combined_feature.csv\")"
   ]
  }
 ],
 "metadata": {
  "language_info": {
   "name": "python"
  }
 },
 "nbformat": 4,
 "nbformat_minor": 5
}
