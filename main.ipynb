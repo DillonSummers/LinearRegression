{
 "cells": [
  {
   "cell_type": "code",
   "execution_count": 65,
   "id": "2fd88d0f",
   "metadata": {},
   "outputs": [],
   "source": [
    "import pandas as pd\n",
    "import numpy as np\n",
    "import matplotlib.pyplot as plt\n",
    "import ast"
   ]
  },
  {
   "cell_type": "code",
   "execution_count": null,
   "id": "dc899d52",
   "metadata": {},
   "outputs": [],
   "source": [
    "new_polymers = pd.read_csv(\"data/new_polymers_feature.csv\")\n",
    "old_polymers = pd.read_csv(\"data/combined_feature.csv\")"
   ]
  },
  {
   "cell_type": "code",
   "execution_count": null,
   "id": "3dfbda47",
   "metadata": {},
   "outputs": [],
   "source": [
    "old_df = pd.read_csv('data/combined_feature.csv', skipinitialspace=True)\n",
    "old_df.columns = old_df.columns.str.strip()\n",
    "new_df = pd.read_csv('data/new_polymers_feature.csv', skipinitialspace=True)\n",
    "new_df.columns = new_df.columns.str.strip()\n",
    "plt.figure(figsize=(8, 6))\n",
    "plt.hist(old_df['backbone_length'], bins=30, alpha=0.7, label='Old Data')\n",
    "ax = plt.gca()\n",
    "ymax = ax.get_ylim()[1]\n",
    "for idx, val in enumerate(new_df['backbone_length']):\n",
    "    ax.axvline(val, color='red', linestyle='--', linewidth=1,\n",
    "               label='New Data' if idx == 0 else '')\n",
    "    ax.text(val, ymax*0.9, str(idx), rotation=90, color='red',\n",
    "            fontsize=8, ha='center', va='bottom')\n",
    "plt.xlabel('Backbone Length')\n",
    "plt.ylabel('Frequency')\n",
    "plt.title('Backbone Length Distribution')\n",
    "plt.legend()\n",
    "plt.show()"
   ]
  }
 ],
 "metadata": {
  "language_info": {
   "name": "python"
  }
 },
 "nbformat": 4,
 "nbformat_minor": 5
}